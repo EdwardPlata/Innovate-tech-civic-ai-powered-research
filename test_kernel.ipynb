{
 "cells": [
  {
   "cell_type": "code",
   "execution_count": null,
   "id": "c103d9b0",
   "metadata": {},
   "outputs": [],
   "source": [
    "# Test cell to verify kernel works\n",
    "print(\"Hello from Jupyter!\")\n",
    "import sys\n",
    "print(f\"Python version: {sys.version}\")\n",
    "print(f\"Python executable: {sys.executable}\")"
   ]
  },
  {
   "cell_type": "code",
   "execution_count": null,
   "id": "69ca7264",
   "metadata": {},
   "outputs": [],
   "source": []
  }
 ],
 "metadata": {
  "language_info": {
   "name": "python"
  }
 },
 "nbformat": 4,
 "nbformat_minor": 5
}
